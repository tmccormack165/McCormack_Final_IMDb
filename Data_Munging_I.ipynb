{
 "cells": [
  {
   "cell_type": "markdown",
   "id": "b687f808",
   "metadata": {},
   "source": [
    "# Libraries"
   ]
  },
  {
   "cell_type": "code",
   "execution_count": 16,
   "id": "55740fc5",
   "metadata": {},
   "outputs": [],
   "source": [
    "import pandas as pd\n",
    "import psycopg2 as ps2\n",
    "import re\n",
    "from os import walk\n"
   ]
  },
  {
   "cell_type": "code",
   "execution_count": 26,
   "id": "df680a33",
   "metadata": {},
   "outputs": [],
   "source": [
    "negative_urls_file = \"/usr/share/databases/IMDbReviews/test/urls_pos.txt\"\n",
    "\n",
    "negative_urls = open(negative_urls_file)"
   ]
  },
  {
   "cell_type": "code",
   "execution_count": 27,
   "id": "c644d400",
   "metadata": {},
   "outputs": [],
   "source": [
    "def parseQueryResults(curr, columns, query, new_row):\n",
    "    curr.execute(query)\n",
    "    \n",
    "    successful = True\n",
    "    try:\n",
    "        result = curr.fetchall()[0]\n",
    "    except:\n",
    "        print(\"MISSING TITLE\")\n",
    "        successful = False\n",
    "        \n",
    "    if(successful == True):  \n",
    "        hmr = 0 \n",
    "        for elem in result:\n",
    "            new_row[columns[hmr]] = elem\n",
    "            hmr += 1\n",
    "    return(successful)\n",
    "    \n",
    "    "
   ]
  },
  {
   "cell_type": "code",
   "execution_count": 28,
   "id": "bf43e0d4",
   "metadata": {},
   "outputs": [],
   "source": [
    "def getReview(rid, files, parent_directory):\n",
    "    review_and_score = {}\n",
    "    for file in files:\n",
    "        re_pattern = str(rid) + \"_\"\n",
    "        re_pattern_final = \"^%s\" % (re_pattern)\n",
    "        is_match = re.search(re_pattern_final, file)\n",
    "        if(is_match != None):\n",
    "            #print(file)\n",
    "            full_file = parent_directory + \"/\" + file\n",
    "            review = open(full_file, mode = 'r')\n",
    "            whole_review = review.read()\n",
    "            review.close()\n",
    "            #print(whole_review)\n",
    "            review_score = file.split(\"_\")[1]\n",
    "            review_score = review_score.split(\".\")[0]\n",
    "            #print(\"Review Score: \", review_score)\n",
    "            \n",
    "            review_and_score = {\"Review\": whole_review, \"Score\": review_score}\n",
    "            \n",
    "    return(review_and_score)\n",
    "        \n",
    "    \n",
    "    "
   ]
  },
  {
   "cell_type": "code",
   "execution_count": 20,
   "id": "3c92d18d",
   "metadata": {},
   "outputs": [],
   "source": [
    "neg_parent_directory = \"/usr/share/databases/IMDbReviews/test/pos\"\n",
    "neg_review_files = []\n",
    "\n",
    "for(dirpath, dirnames, filenames) in walk(neg_parent_directory):\n",
    "    neg_review_files.extend(filenames)\n",
    "\n"
   ]
  },
  {
   "cell_type": "code",
   "execution_count": 29,
   "id": "c13e567f",
   "metadata": {},
   "outputs": [
    {
     "name": "stdout",
     "output_type": "stream",
     "text": [
      "MISSING TITLE\n"
     ]
    }
   ],
   "source": [
    "neg_parent_directory = \"/usr/share/databases/IMDbReviews/test/pos\"\n",
    "neg_review_files = []\n",
    "\n",
    "for(dirpath, dirnames, filenames) in walk(neg_parent_directory):\n",
    "    neg_review_files.extend(filenames)\n",
    "\n",
    "conn = ps2.connect(\"dbname=imdb user=tmccormack\")\n",
    "curr = conn.cursor()\n",
    "\n",
    "# files with negative reviews\n",
    "negative_urls_file = \"/usr/share/databases/IMDbReviews/test/urls_pos.txt\"\n",
    "negative_urls = open(negative_urls_file)\n",
    "\n",
    "review_id = 0\n",
    "movie_reviews = []\n",
    "\n",
    "# collect the title id from each negative review\n",
    "for url in negative_urls:\n",
    "    # extract the title id from the url\n",
    "    start = url.find(\"title/\") + len(\"title/\")\n",
    "    end = url.find(\"/usercomments\")\n",
    "    tid = url[start:end]\n",
    "    \n",
    "    # make a new row \n",
    "    new_row = {\"ReviewID\": review_id}  \n",
    "    \n",
    "    #print(\"TID: \", tid)\n",
    "    \n",
    "    # collect information from title_basics table\n",
    "    title_basics_columns = [\"titleid\", \"titletype\", \"primarytitle\", \"originaltitle\", \"isadult\", \"startyear\", \"endyear\", \"runtimeminutes\", \"genres\"]\n",
    "    title_basics_query = \"SELECT * FROM title_basics_ml WHERE titleid = '%s'\" % (tid)\n",
    "    \n",
    "    successful_query = parseQueryResults(curr, title_basics_columns, title_basics_query, new_row)\n",
    "    \n",
    "    if(successful_query == False):\n",
    "        break\n",
    "    else:   \n",
    "        # get the review from the url\n",
    "        review_and_score = getReview(review_id, neg_review_files, neg_parent_directory)\n",
    "        #print(\"New Row: \",new_row)\n",
    "\n",
    "        #print(review_and_score)\n",
    "        for key, val in review_and_score.items():\n",
    "            #print(\"Key: \", key)\n",
    "            #print(\"Val: \", val)\n",
    "            new_row[key] = val\n",
    "\n",
    "\n",
    "        movie_reviews.append(new_row)\n",
    "        # increment the review id\n",
    "        review_id += 1\n",
    "\n",
    "        #print(\"NR: \", new_row)\n",
    "\n",
    "    \n",
    "\n",
    "curr.close()\n",
    "conn.close()"
   ]
  },
  {
   "cell_type": "code",
   "execution_count": 30,
   "id": "81abb6de",
   "metadata": {},
   "outputs": [],
   "source": [
    "negative_reviews = pd.DataFrame(movie_reviews)"
   ]
  },
  {
   "cell_type": "code",
   "execution_count": 31,
   "id": "38baacbb",
   "metadata": {},
   "outputs": [
    {
     "data": {
      "text/html": [
       "<div>\n",
       "<style scoped>\n",
       "    .dataframe tbody tr th:only-of-type {\n",
       "        vertical-align: middle;\n",
       "    }\n",
       "\n",
       "    .dataframe tbody tr th {\n",
       "        vertical-align: top;\n",
       "    }\n",
       "\n",
       "    .dataframe thead th {\n",
       "        text-align: right;\n",
       "    }\n",
       "</style>\n",
       "<table border=\"1\" class=\"dataframe\">\n",
       "  <thead>\n",
       "    <tr style=\"text-align: right;\">\n",
       "      <th></th>\n",
       "      <th>ReviewID</th>\n",
       "      <th>titleid</th>\n",
       "      <th>titletype</th>\n",
       "      <th>primarytitle</th>\n",
       "      <th>originaltitle</th>\n",
       "      <th>isadult</th>\n",
       "      <th>startyear</th>\n",
       "      <th>endyear</th>\n",
       "      <th>runtimeminutes</th>\n",
       "      <th>genres</th>\n",
       "      <th>Review</th>\n",
       "      <th>Score</th>\n",
       "    </tr>\n",
       "  </thead>\n",
       "  <tbody>\n",
       "    <tr>\n",
       "      <th>0</th>\n",
       "      <td>0</td>\n",
       "      <td>tt0406816</td>\n",
       "      <td>movie</td>\n",
       "      <td>The Guardian</td>\n",
       "      <td>The Guardian</td>\n",
       "      <td>False</td>\n",
       "      <td>2006</td>\n",
       "      <td>None</td>\n",
       "      <td>139</td>\n",
       "      <td>['Action', 'Adventure', 'Drama']</td>\n",
       "      <td>I went and saw this movie last night after bei...</td>\n",
       "      <td>10</td>\n",
       "    </tr>\n",
       "    <tr>\n",
       "      <th>1</th>\n",
       "      <td>1</td>\n",
       "      <td>tt0406816</td>\n",
       "      <td>movie</td>\n",
       "      <td>The Guardian</td>\n",
       "      <td>The Guardian</td>\n",
       "      <td>False</td>\n",
       "      <td>2006</td>\n",
       "      <td>None</td>\n",
       "      <td>139</td>\n",
       "      <td>['Action', 'Adventure', 'Drama']</td>\n",
       "      <td>My boyfriend and I went to watch The Guardian....</td>\n",
       "      <td>10</td>\n",
       "    </tr>\n",
       "    <tr>\n",
       "      <th>2</th>\n",
       "      <td>2</td>\n",
       "      <td>tt0406816</td>\n",
       "      <td>movie</td>\n",
       "      <td>The Guardian</td>\n",
       "      <td>The Guardian</td>\n",
       "      <td>False</td>\n",
       "      <td>2006</td>\n",
       "      <td>None</td>\n",
       "      <td>139</td>\n",
       "      <td>['Action', 'Adventure', 'Drama']</td>\n",
       "      <td>My yardstick for measuring a movie's watch-abi...</td>\n",
       "      <td>7</td>\n",
       "    </tr>\n",
       "    <tr>\n",
       "      <th>3</th>\n",
       "      <td>3</td>\n",
       "      <td>tt0406816</td>\n",
       "      <td>movie</td>\n",
       "      <td>The Guardian</td>\n",
       "      <td>The Guardian</td>\n",
       "      <td>False</td>\n",
       "      <td>2006</td>\n",
       "      <td>None</td>\n",
       "      <td>139</td>\n",
       "      <td>['Action', 'Adventure', 'Drama']</td>\n",
       "      <td>How many movies are there that you can think o...</td>\n",
       "      <td>7</td>\n",
       "    </tr>\n",
       "    <tr>\n",
       "      <th>4</th>\n",
       "      <td>4</td>\n",
       "      <td>tt0406816</td>\n",
       "      <td>movie</td>\n",
       "      <td>The Guardian</td>\n",
       "      <td>The Guardian</td>\n",
       "      <td>False</td>\n",
       "      <td>2006</td>\n",
       "      <td>None</td>\n",
       "      <td>139</td>\n",
       "      <td>['Action', 'Adventure', 'Drama']</td>\n",
       "      <td>This movie was sadly under-promoted but proved...</td>\n",
       "      <td>10</td>\n",
       "    </tr>\n",
       "  </tbody>\n",
       "</table>\n",
       "</div>"
      ],
      "text/plain": [
       "   ReviewID    titleid titletype  primarytitle originaltitle  isadult  \\\n",
       "0         0  tt0406816     movie  The Guardian  The Guardian    False   \n",
       "1         1  tt0406816     movie  The Guardian  The Guardian    False   \n",
       "2         2  tt0406816     movie  The Guardian  The Guardian    False   \n",
       "3         3  tt0406816     movie  The Guardian  The Guardian    False   \n",
       "4         4  tt0406816     movie  The Guardian  The Guardian    False   \n",
       "\n",
       "   startyear endyear  runtimeminutes                            genres  \\\n",
       "0       2006    None             139  ['Action', 'Adventure', 'Drama']   \n",
       "1       2006    None             139  ['Action', 'Adventure', 'Drama']   \n",
       "2       2006    None             139  ['Action', 'Adventure', 'Drama']   \n",
       "3       2006    None             139  ['Action', 'Adventure', 'Drama']   \n",
       "4       2006    None             139  ['Action', 'Adventure', 'Drama']   \n",
       "\n",
       "                                              Review Score  \n",
       "0  I went and saw this movie last night after bei...    10  \n",
       "1  My boyfriend and I went to watch The Guardian....    10  \n",
       "2  My yardstick for measuring a movie's watch-abi...     7  \n",
       "3  How many movies are there that you can think o...     7  \n",
       "4  This movie was sadly under-promoted but proved...    10  "
      ]
     },
     "execution_count": 31,
     "metadata": {},
     "output_type": "execute_result"
    }
   ],
   "source": [
    "negative_reviews.head()"
   ]
  },
  {
   "cell_type": "code",
   "execution_count": 32,
   "id": "dbaacc6a",
   "metadata": {},
   "outputs": [],
   "source": [
    "negative_reviews.to_csv(\"positive_test.csv\")"
   ]
  },
  {
   "cell_type": "code",
   "execution_count": 25,
   "id": "9f26a8ed",
   "metadata": {},
   "outputs": [
    {
     "name": "stdout",
     "output_type": "stream",
     "text": [
      "HMR:  12484\n"
     ]
    }
   ],
   "source": [
    "hmr = 0\n",
    "for elem in negative_urls:\n",
    "    hmr += 1\n",
    "print(\"HMR: \", hmr)"
   ]
  },
  {
   "cell_type": "code",
   "execution_count": 32,
   "id": "c1c15cc3",
   "metadata": {},
   "outputs": [
    {
     "data": {
      "text/plain": [
       "[{'ReviewID': 0,\n",
       "  'titleid': 'tt0064354',\n",
       "  'titletype': 'movie',\n",
       "  'primarytitle': 'Futz',\n",
       "  'originaltitle': 'Futz',\n",
       "  'isadult': False,\n",
       "  'startyear': 1969,\n",
       "  'endyear': None,\n",
       "  'runtimeminutes': 92,\n",
       "  'genres': [\"'Comedy'\"]}]"
      ]
     },
     "execution_count": 32,
     "metadata": {},
     "output_type": "execute_result"
    }
   ],
   "source": [
    "movie_reviews"
   ]
  },
  {
   "cell_type": "code",
   "execution_count": 17,
   "id": "6dab0666",
   "metadata": {},
   "outputs": [
    {
     "data": {
      "text/html": [
       "<div>\n",
       "<style scoped>\n",
       "    .dataframe tbody tr th:only-of-type {\n",
       "        vertical-align: middle;\n",
       "    }\n",
       "\n",
       "    .dataframe tbody tr th {\n",
       "        vertical-align: top;\n",
       "    }\n",
       "\n",
       "    .dataframe thead th {\n",
       "        text-align: right;\n",
       "    }\n",
       "</style>\n",
       "<table border=\"1\" class=\"dataframe\">\n",
       "  <thead>\n",
       "    <tr style=\"text-align: right;\">\n",
       "      <th></th>\n",
       "      <th>ReviewID</th>\n",
       "      <th>titleid</th>\n",
       "      <th>titletype</th>\n",
       "      <th>primarytitle</th>\n",
       "      <th>originaltitle</th>\n",
       "      <th>isadult</th>\n",
       "      <th>startyear</th>\n",
       "      <th>endyear</th>\n",
       "      <th>runtimeminutes</th>\n",
       "      <th>genres</th>\n",
       "    </tr>\n",
       "  </thead>\n",
       "  <tbody>\n",
       "    <tr>\n",
       "      <th>0</th>\n",
       "      <td>0</td>\n",
       "      <td>tt0064354</td>\n",
       "      <td>movie</td>\n",
       "      <td>Futz</td>\n",
       "      <td>Futz</td>\n",
       "      <td>False</td>\n",
       "      <td>1969</td>\n",
       "      <td>None</td>\n",
       "      <td>92</td>\n",
       "      <td>['Comedy']</td>\n",
       "    </tr>\n",
       "  </tbody>\n",
       "</table>\n",
       "</div>"
      ],
      "text/plain": [
       "   ReviewID    titleid titletype primarytitle originaltitle  isadult  \\\n",
       "0         0  tt0064354     movie         Futz          Futz    False   \n",
       "\n",
       "   startyear endyear  runtimeminutes      genres  \n",
       "0       1969    None              92  ['Comedy']  "
      ]
     },
     "execution_count": 17,
     "metadata": {},
     "output_type": "execute_result"
    }
   ],
   "source": [
    "pd.DataFrame(movie_reviews)"
   ]
  },
  {
   "cell_type": "code",
   "execution_count": null,
   "id": "af1b9ece",
   "metadata": {},
   "outputs": [],
   "source": []
  }
 ],
 "metadata": {
  "kernelspec": {
   "display_name": "Python 3",
   "language": "python",
   "name": "python3"
  },
  "language_info": {
   "codemirror_mode": {
    "name": "ipython",
    "version": 3
   },
   "file_extension": ".py",
   "mimetype": "text/x-python",
   "name": "python",
   "nbconvert_exporter": "python",
   "pygments_lexer": "ipython3",
   "version": "3.6.8"
  }
 },
 "nbformat": 4,
 "nbformat_minor": 5
}
