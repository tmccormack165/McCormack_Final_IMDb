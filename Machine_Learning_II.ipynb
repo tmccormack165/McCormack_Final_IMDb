{
  "nbformat": 4,
  "nbformat_minor": 0,
  "metadata": {
    "colab": {
      "name": "Machine_Learning_II.ipynb",
      "provenance": []
    },
    "kernelspec": {
      "name": "python3",
      "display_name": "Python 3"
    },
    "language_info": {
      "name": "python"
    }
  },
  "cells": [
    {
      "cell_type": "markdown",
      "metadata": {
        "id": "FYJmGqc8ccRn"
      },
      "source": [
        "# Libraries"
      ]
    },
    {
      "cell_type": "code",
      "metadata": {
        "colab": {
          "base_uri": "https://localhost:8080/"
        },
        "id": "u93tA2S4cTyP",
        "outputId": "5b7fa168-656f-4b90-e599-b0e881baebf3"
      },
      "source": [
        "import pandas as pd\n",
        "import matplotlib.pyplot as plt\n",
        "from google.colab import drive\n",
        "drive.mount('/content/drive')"
      ],
      "execution_count": null,
      "outputs": [
        {
          "output_type": "stream",
          "name": "stdout",
          "text": [
            "Mounted at /content/drive\n"
          ]
        }
      ]
    },
    {
      "cell_type": "markdown",
      "metadata": {
        "id": "wYvyduWe9Loe"
      },
      "source": [
        "# Read In Data"
      ]
    },
    {
      "cell_type": "code",
      "metadata": {
        "colab": {
          "base_uri": "https://localhost:8080/",
          "height": 81
        },
        "id": "6S7fJTo-9NlK",
        "outputId": "0053ebff-40e0-40f6-85e1-3f672f33e0bd"
      },
      "source": [
        "pos_test = pd.read_csv(\"drive/MyDrive/IMDb/test/positive_test_full.csv\", index_col=0)\n",
        "pos_test.head(1)"
      ],
      "execution_count": null,
      "outputs": [
        {
          "output_type": "execute_result",
          "data": {
            "text/html": [
              "<div>\n",
              "<style scoped>\n",
              "    .dataframe tbody tr th:only-of-type {\n",
              "        vertical-align: middle;\n",
              "    }\n",
              "\n",
              "    .dataframe tbody tr th {\n",
              "        vertical-align: top;\n",
              "    }\n",
              "\n",
              "    .dataframe thead th {\n",
              "        text-align: right;\n",
              "    }\n",
              "</style>\n",
              "<table border=\"1\" class=\"dataframe\">\n",
              "  <thead>\n",
              "    <tr style=\"text-align: right;\">\n",
              "      <th></th>\n",
              "      <th>ReviewID</th>\n",
              "      <th>titleid</th>\n",
              "      <th>titletype</th>\n",
              "      <th>primarytitle</th>\n",
              "      <th>originaltitle</th>\n",
              "      <th>isadult</th>\n",
              "      <th>startyear</th>\n",
              "      <th>endyear</th>\n",
              "      <th>runtimeminutes</th>\n",
              "      <th>genres</th>\n",
              "      <th>Review</th>\n",
              "      <th>Score</th>\n",
              "    </tr>\n",
              "  </thead>\n",
              "  <tbody>\n",
              "    <tr>\n",
              "      <th>0</th>\n",
              "      <td>0</td>\n",
              "      <td>tt0406816</td>\n",
              "      <td>movie</td>\n",
              "      <td>The Guardian</td>\n",
              "      <td>The Guardian</td>\n",
              "      <td>False</td>\n",
              "      <td>2006</td>\n",
              "      <td>NaN</td>\n",
              "      <td>139.0</td>\n",
              "      <td>[\"'Action'\", \"'Adventure'\", \"'Drama'\"]</td>\n",
              "      <td>I went and saw this movie last night after bei...</td>\n",
              "      <td>10</td>\n",
              "    </tr>\n",
              "  </tbody>\n",
              "</table>\n",
              "</div>"
            ],
            "text/plain": [
              "   ReviewID  ... Score\n",
              "0         0  ...    10\n",
              "\n",
              "[1 rows x 12 columns]"
            ]
          },
          "metadata": {},
          "execution_count": 5
        }
      ]
    },
    {
      "cell_type": "code",
      "metadata": {
        "id": "d7diLgNv9wY2"
      },
      "source": [
        "neg_test = pd.read_csv(\"drive/MyDrive/IMDb/test/negative_test_full.csv\", index_col=0)\n",
        "pos_test.head(1)\n",
        "pos_train = pd.read_csv(\"drive/MyDrive/IMDb/train/positive_train_full.csv\", index_col=0)\n",
        "neg_train = pd.read_csv(\"drive/MyDrive/IMDb/train/negative_train_full.csv\", index_col=0)"
      ],
      "execution_count": null,
      "outputs": []
    },
    {
      "cell_type": "code",
      "metadata": {
        "colab": {
          "base_uri": "https://localhost:8080/"
        },
        "id": "SMePZ4zv-YG8",
        "outputId": "44338cf2-9843-425d-9ca9-4fb0ca885eb6"
      },
      "source": [
        "full_dataset = pos_test.append(neg_test)\n",
        "full_dataset = full_dataset.append(pos_train)\n",
        "full_dataset = full_dataset.append(neg_train)\n",
        "full_dataset.shape"
      ],
      "execution_count": null,
      "outputs": [
        {
          "output_type": "execute_result",
          "data": {
            "text/plain": [
              "(49232, 12)"
            ]
          },
          "metadata": {},
          "execution_count": 9
        }
      ]
    },
    {
      "cell_type": "code",
      "metadata": {
        "colab": {
          "base_uri": "https://localhost:8080/",
          "height": 50
        },
        "id": "YFrvF38D_ZV4",
        "outputId": "aa0ae883-9b0c-4818-8f42-96cfb84ba4c1"
      },
      "source": [
        "full_dataset[full_dataset[\"Score\"] == 5]"
      ],
      "execution_count": null,
      "outputs": [
        {
          "output_type": "execute_result",
          "data": {
            "text/html": [
              "<div>\n",
              "<style scoped>\n",
              "    .dataframe tbody tr th:only-of-type {\n",
              "        vertical-align: middle;\n",
              "    }\n",
              "\n",
              "    .dataframe tbody tr th {\n",
              "        vertical-align: top;\n",
              "    }\n",
              "\n",
              "    .dataframe thead th {\n",
              "        text-align: right;\n",
              "    }\n",
              "</style>\n",
              "<table border=\"1\" class=\"dataframe\">\n",
              "  <thead>\n",
              "    <tr style=\"text-align: right;\">\n",
              "      <th></th>\n",
              "      <th>ReviewID</th>\n",
              "      <th>titleid</th>\n",
              "      <th>titletype</th>\n",
              "      <th>primarytitle</th>\n",
              "      <th>originaltitle</th>\n",
              "      <th>isadult</th>\n",
              "      <th>startyear</th>\n",
              "      <th>endyear</th>\n",
              "      <th>runtimeminutes</th>\n",
              "      <th>genres</th>\n",
              "      <th>Review</th>\n",
              "      <th>Score</th>\n",
              "    </tr>\n",
              "  </thead>\n",
              "  <tbody>\n",
              "  </tbody>\n",
              "</table>\n",
              "</div>"
            ],
            "text/plain": [
              "Empty DataFrame\n",
              "Columns: [ReviewID, titleid, titletype, primarytitle, originaltitle, isadult, startyear, endyear, runtimeminutes, genres, Review, Score]\n",
              "Index: []"
            ]
          },
          "metadata": {},
          "execution_count": 14
        }
      ]
    },
    {
      "cell_type": "code",
      "metadata": {
        "colab": {
          "base_uri": "https://localhost:8080/"
        },
        "id": "W4Q4oP_j-kMP",
        "outputId": "c2c68c1b-d792-4d94-fcd9-f76854a23ff5"
      },
      "source": [
        "full_dataset[\"Score\"]"
      ],
      "execution_count": null,
      "outputs": [
        {
          "output_type": "execute_result",
          "data": {
            "text/plain": [
              "0        10\n",
              "1        10\n",
              "2         7\n",
              "3         7\n",
              "4        10\n",
              "         ..\n",
              "12495     1\n",
              "12496     1\n",
              "12497     4\n",
              "12498     2\n",
              "12499     2\n",
              "Name: Score, Length: 49232, dtype: int64"
            ]
          },
          "metadata": {},
          "execution_count": 10
        }
      ]
    },
    {
      "cell_type": "code",
      "metadata": {
        "colab": {
          "base_uri": "https://localhost:8080/",
          "height": 331
        },
        "id": "CV9vet9t_MkQ",
        "outputId": "a8c79b1c-d4b2-4ebe-aeca-1c5c6bd9ec39"
      },
      "source": [
        "#tinydf2 = pd.DataFrame(tinydf2.groupby(by = \"Genre\").size())\n",
        "df = pd.DataFrame(full_dataset.groupby(by = \"Score\").size(), index= None)\n",
        "df[\"Score\"] = df.index\n",
        "df.columns = [\"Count\", \"Score\",]\n",
        "df"
      ],
      "execution_count": null,
      "outputs": [
        {
          "output_type": "execute_result",
          "data": {
            "text/html": [
              "<div>\n",
              "<style scoped>\n",
              "    .dataframe tbody tr th:only-of-type {\n",
              "        vertical-align: middle;\n",
              "    }\n",
              "\n",
              "    .dataframe tbody tr th {\n",
              "        vertical-align: top;\n",
              "    }\n",
              "\n",
              "    .dataframe thead th {\n",
              "        text-align: right;\n",
              "    }\n",
              "</style>\n",
              "<table border=\"1\" class=\"dataframe\">\n",
              "  <thead>\n",
              "    <tr style=\"text-align: right;\">\n",
              "      <th></th>\n",
              "      <th>Count</th>\n",
              "      <th>Score</th>\n",
              "    </tr>\n",
              "    <tr>\n",
              "      <th>Score</th>\n",
              "      <th></th>\n",
              "      <th></th>\n",
              "    </tr>\n",
              "  </thead>\n",
              "  <tbody>\n",
              "    <tr>\n",
              "      <th>1</th>\n",
              "      <td>10122</td>\n",
              "      <td>1</td>\n",
              "    </tr>\n",
              "    <tr>\n",
              "      <th>2</th>\n",
              "      <td>4586</td>\n",
              "      <td>2</td>\n",
              "    </tr>\n",
              "    <tr>\n",
              "      <th>3</th>\n",
              "      <td>4961</td>\n",
              "      <td>3</td>\n",
              "    </tr>\n",
              "    <tr>\n",
              "      <th>4</th>\n",
              "      <td>5331</td>\n",
              "      <td>4</td>\n",
              "    </tr>\n",
              "    <tr>\n",
              "      <th>7</th>\n",
              "      <td>4656</td>\n",
              "      <td>7</td>\n",
              "    </tr>\n",
              "    <tr>\n",
              "      <th>8</th>\n",
              "      <td>5685</td>\n",
              "      <td>8</td>\n",
              "    </tr>\n",
              "    <tr>\n",
              "      <th>9</th>\n",
              "      <td>4483</td>\n",
              "      <td>9</td>\n",
              "    </tr>\n",
              "    <tr>\n",
              "      <th>10</th>\n",
              "      <td>9408</td>\n",
              "      <td>10</td>\n",
              "    </tr>\n",
              "  </tbody>\n",
              "</table>\n",
              "</div>"
            ],
            "text/plain": [
              "       Count  Score\n",
              "Score              \n",
              "1      10122      1\n",
              "2       4586      2\n",
              "3       4961      3\n",
              "4       5331      4\n",
              "7       4656      7\n",
              "8       5685      8\n",
              "9       4483      9\n",
              "10      9408     10"
            ]
          },
          "metadata": {},
          "execution_count": 22
        }
      ]
    },
    {
      "cell_type": "code",
      "metadata": {
        "colab": {
          "base_uri": "https://localhost:8080/",
          "height": 295
        },
        "id": "YUwCH95wAE5C",
        "outputId": "56486f43-f4d9-43fa-e634-5765a7786ace"
      },
      "source": [
        "plt.bar(df[\"Score\"], df[\"Count\"], color = \"dodgerblue\")\n",
        "plt.ylabel(\"Count\")\n",
        "plt.xlabel(\"Sentiment Rating\")\n",
        "plt.title(\"Distribution of Numerical Ratings\")\n",
        "plt.show()"
      ],
      "execution_count": null,
      "outputs": [
        {
          "output_type": "display_data",
          "data": {
            "image/png": "[encoded data removed]",
            "text/plain": [
              "<Figure size 432x288 with 1 Axes>"
            ]
          },
          "metadata": {
            "needs_background": "light"
          }
        }
      ]
    },
    {
      "cell_type": "markdown",
      "metadata": {
        "id": "yI6cQCz9dCH8"
      },
      "source": [
        "# Plots"
      ]
    },
    {
      "cell_type": "code",
      "metadata": {
        "colab": {
          "base_uri": "https://localhost:8080/"
        },
        "id": "ckUnKYFGdryR",
        "outputId": "22e71813-a79a-480d-e7dc-d8610e4ed0b0"
      },
      "source": [
        "!ls"
      ],
      "execution_count": null,
      "outputs": [
        {
          "output_type": "stream",
          "name": "stdout",
          "text": [
            "drive  sample_data\n"
          ]
        }
      ]
    },
    {
      "cell_type": "code",
      "metadata": {
        "colab": {
          "base_uri": "https://localhost:8080/",
          "height": 81
        },
        "id": "35mt_CMQcfum",
        "outputId": "1f351864-b142-4d37-9e9a-fcf4ac617141"
      },
      "source": [
        "pos_test = pd.read_csv(\"drive/MyDrive/IMDb/test/positive_test_full.csv\", index_col=0)\n",
        "pos_test.head(1)"
      ],
      "execution_count": null,
      "outputs": [
        {
          "output_type": "execute_result",
          "data": {
            "text/html": [
              "<div>\n",
              "<style scoped>\n",
              "    .dataframe tbody tr th:only-of-type {\n",
              "        vertical-align: middle;\n",
              "    }\n",
              "\n",
              "    .dataframe tbody tr th {\n",
              "        vertical-align: top;\n",
              "    }\n",
              "\n",
              "    .dataframe thead th {\n",
              "        text-align: right;\n",
              "    }\n",
              "</style>\n",
              "<table border=\"1\" class=\"dataframe\">\n",
              "  <thead>\n",
              "    <tr style=\"text-align: right;\">\n",
              "      <th></th>\n",
              "      <th>ReviewID</th>\n",
              "      <th>titleid</th>\n",
              "      <th>titletype</th>\n",
              "      <th>primarytitle</th>\n",
              "      <th>originaltitle</th>\n",
              "      <th>isadult</th>\n",
              "      <th>startyear</th>\n",
              "      <th>endyear</th>\n",
              "      <th>runtimeminutes</th>\n",
              "      <th>genres</th>\n",
              "      <th>Review</th>\n",
              "      <th>Score</th>\n",
              "    </tr>\n",
              "  </thead>\n",
              "  <tbody>\n",
              "    <tr>\n",
              "      <th>0</th>\n",
              "      <td>0</td>\n",
              "      <td>tt0406816</td>\n",
              "      <td>movie</td>\n",
              "      <td>The Guardian</td>\n",
              "      <td>The Guardian</td>\n",
              "      <td>False</td>\n",
              "      <td>2006</td>\n",
              "      <td>NaN</td>\n",
              "      <td>139.0</td>\n",
              "      <td>[\"'Action'\", \"'Adventure'\", \"'Drama'\"]</td>\n",
              "      <td>I went and saw this movie last night after bei...</td>\n",
              "      <td>10</td>\n",
              "    </tr>\n",
              "  </tbody>\n",
              "</table>\n",
              "</div>"
            ],
            "text/plain": [
              "   ReviewID  ... Score\n",
              "0         0  ...    10\n",
              "\n",
              "[1 rows x 12 columns]"
            ]
          },
          "metadata": {},
          "execution_count": 3
        }
      ]
    },
    {
      "cell_type": "code",
      "metadata": {
        "colab": {
          "base_uri": "https://localhost:8080/",
          "height": 81
        },
        "id": "YOFwF68ckZYx",
        "outputId": "a0e74f97-981b-4e8c-9536-232d76401b8d"
      },
      "source": [
        "neg_train = pd.read_csv(\"drive/MyDrive/IMDb/train/negative_train_full.csv\", index_col = 0)\n",
        "neg_train.head(1)"
      ],
      "execution_count": null,
      "outputs": [
        {
          "output_type": "execute_result",
          "data": {
            "text/html": [
              "<div>\n",
              "<style scoped>\n",
              "    .dataframe tbody tr th:only-of-type {\n",
              "        vertical-align: middle;\n",
              "    }\n",
              "\n",
              "    .dataframe tbody tr th {\n",
              "        vertical-align: top;\n",
              "    }\n",
              "\n",
              "    .dataframe thead th {\n",
              "        text-align: right;\n",
              "    }\n",
              "</style>\n",
              "<table border=\"1\" class=\"dataframe\">\n",
              "  <thead>\n",
              "    <tr style=\"text-align: right;\">\n",
              "      <th></th>\n",
              "      <th>ReviewID</th>\n",
              "      <th>titleid</th>\n",
              "      <th>titletype</th>\n",
              "      <th>primarytitle</th>\n",
              "      <th>originaltitle</th>\n",
              "      <th>isadult</th>\n",
              "      <th>startyear</th>\n",
              "      <th>endyear</th>\n",
              "      <th>runtimeminutes</th>\n",
              "      <th>genres</th>\n",
              "      <th>Review</th>\n",
              "      <th>Score</th>\n",
              "    </tr>\n",
              "  </thead>\n",
              "  <tbody>\n",
              "    <tr>\n",
              "      <th>0</th>\n",
              "      <td>0</td>\n",
              "      <td>tt0064354</td>\n",
              "      <td>movie</td>\n",
              "      <td>Futz</td>\n",
              "      <td>Futz</td>\n",
              "      <td>False</td>\n",
              "      <td>1969.0</td>\n",
              "      <td>NaN</td>\n",
              "      <td>92.0</td>\n",
              "      <td>[\"'Comedy'\"]</td>\n",
              "      <td>Story of a man who has unnatural feelings for ...</td>\n",
              "      <td>3</td>\n",
              "    </tr>\n",
              "  </tbody>\n",
              "</table>\n",
              "</div>"
            ],
            "text/plain": [
              "   ReviewID  ... Score\n",
              "0         0  ...     3\n",
              "\n",
              "[1 rows x 12 columns]"
            ]
          },
          "metadata": {},
          "execution_count": 4
        }
      ]
    },
    {
      "cell_type": "code",
      "metadata": {
        "id": "5hGSObRluU07"
      },
      "source": [
        "positive_genres = []\n",
        "\n",
        "for row in pos_test.iterrows():\n",
        "  try:\n",
        "    genres = row[1][\"genres\"]\n",
        "    genres = genres.replace(\"[\",\"\")\n",
        "    genres = genres.replace(\"]\",\"\")\n",
        "    genres = genres.replace('\"','')\n",
        "    genres = genres.replace(\"'\",\"\")\n",
        "\n",
        "    gs = genres.split(\",\")\n",
        "    for word in gs:\n",
        "      word = word.replace(\" \",\"\")\n",
        "      positive_genres.append(word)\n",
        "  except:\n",
        "    print(\"\",end = \"\")\n",
        "  \n"
      ],
      "execution_count": null,
      "outputs": []
    },
    {
      "cell_type": "code",
      "metadata": {
        "id": "8MHd8YwUxs3n"
      },
      "source": [
        "len(positive_genres)\n",
        "tinydf = pd.DataFrame(positive_genres)\n",
        "tinydf.columns = [\"Genre\"]\n",
        "tinydf = pd.DataFrame(tinydf.groupby(by = \"Genre\").size())\n",
        "tinydf[\"Genre\"] = tinydf.index\n",
        "tinydf.columns = [\"Count\", \"Genre\"]\n",
        "tinydf.head()\n",
        "tinydf = tinydf.sort_values(by = \"Count\", ascending = False)"
      ],
      "execution_count": null,
      "outputs": []
    },
    {
      "cell_type": "code",
      "metadata": {
        "id": "gtT5VA_s0zco"
      },
      "source": [
        "tinydf[\"Sentiment\"] = \"positive\""
      ],
      "execution_count": null,
      "outputs": []
    },
    {
      "cell_type": "code",
      "metadata": {
        "colab": {
          "base_uri": "https://localhost:8080/",
          "height": 238
        },
        "id": "S8qI0Y3FKRE_",
        "outputId": "3643c28d-775a-46f1-bcf6-9d3b1de625d3"
      },
      "source": [
        "tinydf.head()"
      ],
      "execution_count": null,
      "outputs": [
        {
          "output_type": "execute_result",
          "data": {
            "text/html": [
              "<div>\n",
              "<style scoped>\n",
              "    .dataframe tbody tr th:only-of-type {\n",
              "        vertical-align: middle;\n",
              "    }\n",
              "\n",
              "    .dataframe tbody tr th {\n",
              "        vertical-align: top;\n",
              "    }\n",
              "\n",
              "    .dataframe thead th {\n",
              "        text-align: right;\n",
              "    }\n",
              "</style>\n",
              "<table border=\"1\" class=\"dataframe\">\n",
              "  <thead>\n",
              "    <tr style=\"text-align: right;\">\n",
              "      <th></th>\n",
              "      <th>Count</th>\n",
              "      <th>Genre</th>\n",
              "      <th>Sentiment</th>\n",
              "    </tr>\n",
              "    <tr>\n",
              "      <th>Genre</th>\n",
              "      <th></th>\n",
              "      <th></th>\n",
              "      <th></th>\n",
              "    </tr>\n",
              "  </thead>\n",
              "  <tbody>\n",
              "    <tr>\n",
              "      <th>Drama</th>\n",
              "      <td>6270</td>\n",
              "      <td>Drama</td>\n",
              "      <td>positive</td>\n",
              "    </tr>\n",
              "    <tr>\n",
              "      <th>Comedy</th>\n",
              "      <td>4020</td>\n",
              "      <td>Comedy</td>\n",
              "      <td>positive</td>\n",
              "    </tr>\n",
              "    <tr>\n",
              "      <th>Romance</th>\n",
              "      <td>2026</td>\n",
              "      <td>Romance</td>\n",
              "      <td>positive</td>\n",
              "    </tr>\n",
              "    <tr>\n",
              "      <th>Crime</th>\n",
              "      <td>1717</td>\n",
              "      <td>Crime</td>\n",
              "      <td>positive</td>\n",
              "    </tr>\n",
              "    <tr>\n",
              "      <th>Action</th>\n",
              "      <td>1445</td>\n",
              "      <td>Action</td>\n",
              "      <td>positive</td>\n",
              "    </tr>\n",
              "  </tbody>\n",
              "</table>\n",
              "</div>"
            ],
            "text/plain": [
              "         Count    Genre Sentiment\n",
              "Genre                            \n",
              "Drama     6270    Drama  positive\n",
              "Comedy    4020   Comedy  positive\n",
              "Romance   2026  Romance  positive\n",
              "Crime     1717    Crime  positive\n",
              "Action    1445   Action  positive"
            ]
          },
          "metadata": {},
          "execution_count": 152
        }
      ]
    },
    {
      "cell_type": "code",
      "metadata": {
        "id": "4g8KoKt21ApF"
      },
      "source": [
        "negative_genres = []\n",
        "\n",
        "for row in neg_train.iterrows():\n",
        "  try:\n",
        "    genres = row[1][\"genres\"]\n",
        "    genres = genres.replace(\"[\",\"\")\n",
        "    genres = genres.replace(\"]\",\"\")\n",
        "    genres = genres.replace('\"','')\n",
        "    genres = genres.replace(\"'\",\"\")\n",
        "\n",
        "    gs = genres.split(\",\")\n",
        "    for word in gs:\n",
        "      word = word.replace(\" \",\"\")\n",
        "      negative_genres.append(word)\n",
        "  except:\n",
        "    print(\"\",end = \"\")\n",
        "  "
      ],
      "execution_count": null,
      "outputs": []
    },
    {
      "cell_type": "code",
      "metadata": {
        "id": "v4AW8sCZ1I3r"
      },
      "source": [
        "len(negative_genres)\n",
        "tinydf2 = pd.DataFrame(negative_genres)\n",
        "tinydf2.columns = [\"Genre\"]\n",
        "tinydf2 = pd.DataFrame(tinydf2.groupby(by = \"Genre\").size())\n",
        "tinydf2[\"Genre\"] = tinydf2.index\n",
        "tinydf2.columns = [\"Count\", \"Genre\"]\n",
        "tinydf2.head()\n",
        "tinydf2 = tinydf2.sort_values(by = \"Count\", ascending = False)"
      ],
      "execution_count": null,
      "outputs": []
    },
    {
      "cell_type": "code",
      "metadata": {
        "id": "D95wzRqs1adW"
      },
      "source": [
        "tinydf2[\"Sentiment\"] = \"negative\""
      ],
      "execution_count": null,
      "outputs": []
    },
    {
      "cell_type": "code",
      "metadata": {
        "colab": {
          "base_uri": "https://localhost:8080/"
        },
        "id": "UkVWFJrk1oXg",
        "outputId": "e90fe217-26e8-4f5e-9653-7be2a2a693f8"
      },
      "source": [
        "tinydf2.shape"
      ],
      "execution_count": null,
      "outputs": [
        {
          "output_type": "execute_result",
          "data": {
            "text/plain": [
              "(28, 3)"
            ]
          },
          "metadata": {},
          "execution_count": 156
        }
      ]
    },
    {
      "cell_type": "code",
      "metadata": {
        "colab": {
          "base_uri": "https://localhost:8080/"
        },
        "id": "AlbJIROF1rNS",
        "outputId": "1a9d9ad5-d138-4756-f58e-9e1d36d94b0c"
      },
      "source": [
        "tinydf.shape"
      ],
      "execution_count": null,
      "outputs": [
        {
          "output_type": "execute_result",
          "data": {
            "text/plain": [
              "(28, 3)"
            ]
          },
          "metadata": {},
          "execution_count": 157
        }
      ]
    },
    {
      "cell_type": "code",
      "metadata": {
        "id": "bHuRy_xB1y69"
      },
      "source": [
        "frames = [tinydf2,tinydf]\n",
        "df = pd.concat(frames)\n",
        "df = df.sort_values(by = \"Count\", ascending = False)"
      ],
      "execution_count": null,
      "outputs": []
    },
    {
      "cell_type": "code",
      "metadata": {
        "colab": {
          "base_uri": "https://localhost:8080/",
          "height": 238
        },
        "id": "QzbDYSHg1-p1",
        "outputId": "6bb99f52-3459-424a-9536-a87369d3d64c"
      },
      "source": [
        "df.head()"
      ],
      "execution_count": null,
      "outputs": [
        {
          "output_type": "execute_result",
          "data": {
            "text/html": [
              "<div>\n",
              "<style scoped>\n",
              "    .dataframe tbody tr th:only-of-type {\n",
              "        vertical-align: middle;\n",
              "    }\n",
              "\n",
              "    .dataframe tbody tr th {\n",
              "        vertical-align: top;\n",
              "    }\n",
              "\n",
              "    .dataframe thead th {\n",
              "        text-align: right;\n",
              "    }\n",
              "</style>\n",
              "<table border=\"1\" class=\"dataframe\">\n",
              "  <thead>\n",
              "    <tr style=\"text-align: right;\">\n",
              "      <th></th>\n",
              "      <th>Count</th>\n",
              "      <th>Genre</th>\n",
              "      <th>Sentiment</th>\n",
              "    </tr>\n",
              "    <tr>\n",
              "      <th>Genre</th>\n",
              "      <th></th>\n",
              "      <th></th>\n",
              "      <th></th>\n",
              "    </tr>\n",
              "  </thead>\n",
              "  <tbody>\n",
              "    <tr>\n",
              "      <th>Drama</th>\n",
              "      <td>6270</td>\n",
              "      <td>Drama</td>\n",
              "      <td>positive</td>\n",
              "    </tr>\n",
              "    <tr>\n",
              "      <th>Drama</th>\n",
              "      <td>4763</td>\n",
              "      <td>Drama</td>\n",
              "      <td>negative</td>\n",
              "    </tr>\n",
              "    <tr>\n",
              "      <th>Comedy</th>\n",
              "      <td>4020</td>\n",
              "      <td>Comedy</td>\n",
              "      <td>positive</td>\n",
              "    </tr>\n",
              "    <tr>\n",
              "      <th>Comedy</th>\n",
              "      <td>3580</td>\n",
              "      <td>Comedy</td>\n",
              "      <td>negative</td>\n",
              "    </tr>\n",
              "    <tr>\n",
              "      <th>Horror</th>\n",
              "      <td>3110</td>\n",
              "      <td>Horror</td>\n",
              "      <td>negative</td>\n",
              "    </tr>\n",
              "  </tbody>\n",
              "</table>\n",
              "</div>"
            ],
            "text/plain": [
              "        Count   Genre Sentiment\n",
              "Genre                          \n",
              "Drama    6270   Drama  positive\n",
              "Drama    4763   Drama  negative\n",
              "Comedy   4020  Comedy  positive\n",
              "Comedy   3580  Comedy  negative\n",
              "Horror   3110  Horror  negative"
            ]
          },
          "metadata": {},
          "execution_count": 159
        }
      ]
    },
    {
      "cell_type": "code",
      "metadata": {
        "colab": {
          "base_uri": "https://localhost:8080/",
          "height": 265
        },
        "id": "aQJ-Xk4y2kHV",
        "outputId": "efad64fe-e5cd-4f46-d3a9-1825ecaac9e6"
      },
      "source": [
        "plt.bar(df[\"Genre\"], df[\"Count\"], color = \"red\")\n",
        "plt.show()"
      ],
      "execution_count": null,
      "outputs": [
        {
          "output_type": "display_data",
          "data": {
            "image/png": "[encoded data removed]",
            "text/plain": [
              "<Figure size 432x288 with 1 Axes>"
            ]
          },
          "metadata": {
            "needs_background": "light"
          }
        }
      ]
    },
    {
      "cell_type": "code",
      "metadata": {
        "colab": {
          "base_uri": "https://localhost:8080/",
          "height": 444
        },
        "id": "pg1YUPhZygyW",
        "outputId": "d9c7ba2b-37b7-48cb-da59-74bd0d66bb5b"
      },
      "source": [
        "from matplotlib.pyplot import figure\n",
        "\n",
        "figure(figsize=(8, 6), dpi=80)\n",
        "\n",
        "plt.scatter(tinydf[\"Count\"], tinydf[\"Genre\"], color = \"mediumspringgreen\", alpha = 0.5 , s = 90)\n",
        "plt.scatter(tinydf2[\"Count\"], tinydf2[\"Genre\"],color = \"salmon\", alpha = 0.5, s = 90)\n",
        "plt.xticks(rotation = 0)\n",
        "plt.legend([\"Positive\", \"Negative\"], title = \"Sentiment\")\n",
        "plt.title(\"Distribution of Genres of Movies Reviewed\")\n",
        "plt.xlabel(\"Frequency\")\n",
        "plt.show()"
      ],
      "execution_count": null,
      "outputs": [
        {
          "output_type": "display_data",
          "data": {
            "image/png": "[encoded data removed]",
            "text/plain": [
              "<Figure size 640x480 with 1 Axes>"
            ]
          },
          "metadata": {
            "needs_background": "light"
          }
        }
      ]
    },
    {
      "cell_type": "code",
      "metadata": {
        "colab": {
          "base_uri": "https://localhost:8080/",
          "height": 295
        },
        "id": "xxwlO0_9dqB5",
        "outputId": "ce995b5e-e2ac-48e3-a0c7-e2dda7003b20"
      },
      "source": [
        "plt.hist(pos_test[\"startyear\"], color = \"mediumspringgreen\", bins = 100)\n",
        "plt.hist(neg_train[\"startyear\"], color = \"salmon\", bins = 100)\n",
        "plt.xlabel(\"Start Year\")\n",
        "plt.ylabel(\"Frequency\")\n",
        "plt.title(\"Distribution of Start Year For Movies Reviewed\")\n",
        "plt.legend([\"Positive\", \"Negative\"], title = \"Sentiment\")\n",
        "plt.show()"
      ],
      "execution_count": null,
      "outputs": [
        {
          "output_type": "display_data",
          "data": {
            "image/png": "[encoded data removed]",
            "text/plain": [
              "<Figure size 432x288 with 1 Axes>"
            ]
          },
          "metadata": {
            "needs_background": "light"
          }
        }
      ]
    },
    {
      "cell_type": "code",
      "metadata": {
        "id": "y6wTC57IPHsp"
      },
      "source": [
        "pos = pd.DataFrame(pos_test.groupby(by = \"isadult\").size())\n",
        "neg = pd.DataFrame(neg_train.groupby(by = \"isadult\").size())"
      ],
      "execution_count": null,
      "outputs": []
    },
    {
      "cell_type": "code",
      "metadata": {
        "colab": {
          "base_uri": "https://localhost:8080/",
          "height": 143
        },
        "id": "ZGZWzvlkR61V",
        "outputId": "473622e4-17f0-4c56-d3af-6868ab9ad720"
      },
      "source": [
        "neg"
      ],
      "execution_count": null,
      "outputs": [
        {
          "output_type": "execute_result",
          "data": {
            "text/html": [
              "<div>\n",
              "<style scoped>\n",
              "    .dataframe tbody tr th:only-of-type {\n",
              "        vertical-align: middle;\n",
              "    }\n",
              "\n",
              "    .dataframe tbody tr th {\n",
              "        vertical-align: top;\n",
              "    }\n",
              "\n",
              "    .dataframe thead th {\n",
              "        text-align: right;\n",
              "    }\n",
              "</style>\n",
              "<table border=\"1\" class=\"dataframe\">\n",
              "  <thead>\n",
              "    <tr style=\"text-align: right;\">\n",
              "      <th></th>\n",
              "      <th>0</th>\n",
              "    </tr>\n",
              "    <tr>\n",
              "      <th>isadult</th>\n",
              "      <th></th>\n",
              "    </tr>\n",
              "  </thead>\n",
              "  <tbody>\n",
              "    <tr>\n",
              "      <th>False</th>\n",
              "      <td>11893</td>\n",
              "    </tr>\n",
              "    <tr>\n",
              "      <th>True</th>\n",
              "      <td>19</td>\n",
              "    </tr>\n",
              "  </tbody>\n",
              "</table>\n",
              "</div>"
            ],
            "text/plain": [
              "             0\n",
              "isadult       \n",
              "False    11893\n",
              "True        19"
            ]
          },
          "metadata": {},
          "execution_count": 202
        }
      ]
    },
    {
      "cell_type": "code",
      "metadata": {
        "colab": {
          "base_uri": "https://localhost:8080/",
          "height": 143
        },
        "id": "0osPrioyPtsr",
        "outputId": "83be39ad-68ce-437c-c590-285ed9812d48"
      },
      "source": [
        "pos[\"isadult\"] = pos.index\n",
        "pos.columns = [\"Count\",\"isadult\"]\n",
        "pos"
      ],
      "execution_count": null,
      "outputs": [
        {
          "output_type": "execute_result",
          "data": {
            "text/html": [
              "<div>\n",
              "<style scoped>\n",
              "    .dataframe tbody tr th:only-of-type {\n",
              "        vertical-align: middle;\n",
              "    }\n",
              "\n",
              "    .dataframe tbody tr th {\n",
              "        vertical-align: top;\n",
              "    }\n",
              "\n",
              "    .dataframe thead th {\n",
              "        text-align: right;\n",
              "    }\n",
              "</style>\n",
              "<table border=\"1\" class=\"dataframe\">\n",
              "  <thead>\n",
              "    <tr style=\"text-align: right;\">\n",
              "      <th></th>\n",
              "      <th>Count</th>\n",
              "      <th>isadult</th>\n",
              "    </tr>\n",
              "    <tr>\n",
              "      <th>isadult</th>\n",
              "      <th></th>\n",
              "      <th></th>\n",
              "    </tr>\n",
              "  </thead>\n",
              "  <tbody>\n",
              "    <tr>\n",
              "      <th>False</th>\n",
              "      <td>11707</td>\n",
              "      <td>False</td>\n",
              "    </tr>\n",
              "    <tr>\n",
              "      <th>True</th>\n",
              "      <td>25</td>\n",
              "      <td>True</td>\n",
              "    </tr>\n",
              "  </tbody>\n",
              "</table>\n",
              "</div>"
            ],
            "text/plain": [
              "         Count isadult\n",
              "isadult               \n",
              "False    11707   False\n",
              "True        25    True"
            ]
          },
          "metadata": {},
          "execution_count": 184
        }
      ]
    },
    {
      "cell_type": "code",
      "metadata": {
        "colab": {
          "base_uri": "https://localhost:8080/",
          "height": 281
        },
        "id": "uqqaDsQZQOM0",
        "outputId": "6e3bf82f-c93d-4ae3-d3e0-fb2736f41929"
      },
      "source": [
        "plt.scatter([\"False\",\"True\"], pos[\"Count\"], alpha = 0.5, color = \"mediumspringgreen\", s = 100)\n",
        "plt.scatter([\"False\", \"True\"], [11893,19], color = \"salmon\", alpha = 0.5, s = 100)\n",
        "plt.title(\"Distribution of Adult Films in Movies Reviewed\")\n",
        "plt.ylabel(\"Frequency\")\n",
        "plt.legend([\"Positive\", \"Negative\"], title = \"Sentiment\")\n",
        "plt.show()"
      ],
      "execution_count": null,
      "outputs": [
        {
          "output_type": "display_data",
          "data": {
            "image/png": "[encoded data removed]",
            "text/plain": [
              "<Figure size 432x288 with 1 Axes>"
            ]
          },
          "metadata": {
            "needs_background": "light"
          }
        }
      ]
    },
    {
      "cell_type": "markdown",
      "metadata": {
        "id": "OBgaHZVimycO"
      },
      "source": [
        ""
      ]
    },
    {
      "cell_type": "code",
      "metadata": {
        "colab": {
          "base_uri": "https://localhost:8080/",
          "height": 115
        },
        "id": "Kf23k0sbpYNC",
        "outputId": "758af08f-f24c-4672-b212-0b0fb3376da5"
      },
      "source": [
        "pos_test.head(1)"
      ],
      "execution_count": null,
      "outputs": [
        {
          "output_type": "execute_result",
          "data": {
            "text/html": [
              "<div>\n",
              "<style scoped>\n",
              "    .dataframe tbody tr th:only-of-type {\n",
              "        vertical-align: middle;\n",
              "    }\n",
              "\n",
              "    .dataframe tbody tr th {\n",
              "        vertical-align: top;\n",
              "    }\n",
              "\n",
              "    .dataframe thead th {\n",
              "        text-align: right;\n",
              "    }\n",
              "</style>\n",
              "<table border=\"1\" class=\"dataframe\">\n",
              "  <thead>\n",
              "    <tr style=\"text-align: right;\">\n",
              "      <th></th>\n",
              "      <th>ReviewID</th>\n",
              "      <th>titleid</th>\n",
              "      <th>titletype</th>\n",
              "      <th>primarytitle</th>\n",
              "      <th>originaltitle</th>\n",
              "      <th>isadult</th>\n",
              "      <th>startyear</th>\n",
              "      <th>endyear</th>\n",
              "      <th>runtimeminutes</th>\n",
              "      <th>genres</th>\n",
              "      <th>Review</th>\n",
              "      <th>Score</th>\n",
              "    </tr>\n",
              "  </thead>\n",
              "  <tbody>\n",
              "    <tr>\n",
              "      <th>0</th>\n",
              "      <td>0</td>\n",
              "      <td>tt0406816</td>\n",
              "      <td>movie</td>\n",
              "      <td>The Guardian</td>\n",
              "      <td>The Guardian</td>\n",
              "      <td>False</td>\n",
              "      <td>2006</td>\n",
              "      <td>NaN</td>\n",
              "      <td>139.0</td>\n",
              "      <td>[\"'Action'\", \"'Adventure'\", \"'Drama'\"]</td>\n",
              "      <td>I went and saw this movie last night after bei...</td>\n",
              "      <td>10</td>\n",
              "    </tr>\n",
              "  </tbody>\n",
              "</table>\n",
              "</div>"
            ],
            "text/plain": [
              "   ReviewID  ... Score\n",
              "0         0  ...    10\n",
              "\n",
              "[1 rows x 12 columns]"
            ]
          },
          "metadata": {},
          "execution_count": 13
        }
      ]
    },
    {
      "cell_type": "code",
      "metadata": {
        "id": "bwwVv_CsphzT"
      },
      "source": [
        "res = pos_test.set_index(['ReviewID',\t'titleid',\t'titletype',\t'primarytitle',\t'originaltitle',\t'isadult',\t'startyear',\t'endyear',\t'runtimeminutes'])['genres'].apply(pd.Series).stack()\n",
        "res = res.reset_index()"
      ],
      "execution_count": null,
      "outputs": []
    },
    {
      "cell_type": "code",
      "metadata": {
        "colab": {
          "base_uri": "https://localhost:8080/",
          "height": 597
        },
        "id": "-snKyn3pqT00",
        "outputId": "04c67463-4933-41b3-8605-85537ce14eab"
      },
      "source": [
        "res"
      ],
      "execution_count": null,
      "outputs": [
        {
          "output_type": "execute_result",
          "data": {
            "text/html": [
              "<div>\n",
              "<style scoped>\n",
              "    .dataframe tbody tr th:only-of-type {\n",
              "        vertical-align: middle;\n",
              "    }\n",
              "\n",
              "    .dataframe tbody tr th {\n",
              "        vertical-align: top;\n",
              "    }\n",
              "\n",
              "    .dataframe thead th {\n",
              "        text-align: right;\n",
              "    }\n",
              "</style>\n",
              "<table border=\"1\" class=\"dataframe\">\n",
              "  <thead>\n",
              "    <tr style=\"text-align: right;\">\n",
              "      <th></th>\n",
              "      <th>ReviewID</th>\n",
              "      <th>titleid</th>\n",
              "      <th>titletype</th>\n",
              "      <th>primarytitle</th>\n",
              "      <th>originaltitle</th>\n",
              "      <th>isadult</th>\n",
              "      <th>startyear</th>\n",
              "      <th>endyear</th>\n",
              "      <th>runtimeminutes</th>\n",
              "      <th>level_9</th>\n",
              "      <th>0</th>\n",
              "    </tr>\n",
              "  </thead>\n",
              "  <tbody>\n",
              "    <tr>\n",
              "      <th>0</th>\n",
              "      <td>0</td>\n",
              "      <td>tt0406816</td>\n",
              "      <td>movie</td>\n",
              "      <td>The Guardian</td>\n",
              "      <td>The Guardian</td>\n",
              "      <td>False</td>\n",
              "      <td>2006</td>\n",
              "      <td>NaN</td>\n",
              "      <td>139.0</td>\n",
              "      <td>0</td>\n",
              "      <td>[\"'Action'\", \"'Adventure'\", \"'Drama'\"]</td>\n",
              "    </tr>\n",
              "    <tr>\n",
              "      <th>1</th>\n",
              "      <td>1</td>\n",
              "      <td>tt0406816</td>\n",
              "      <td>movie</td>\n",
              "      <td>The Guardian</td>\n",
              "      <td>The Guardian</td>\n",
              "      <td>False</td>\n",
              "      <td>2006</td>\n",
              "      <td>NaN</td>\n",
              "      <td>139.0</td>\n",
              "      <td>0</td>\n",
              "      <td>[\"'Action'\", \"'Adventure'\", \"'Drama'\"]</td>\n",
              "    </tr>\n",
              "    <tr>\n",
              "      <th>2</th>\n",
              "      <td>2</td>\n",
              "      <td>tt0406816</td>\n",
              "      <td>movie</td>\n",
              "      <td>The Guardian</td>\n",
              "      <td>The Guardian</td>\n",
              "      <td>False</td>\n",
              "      <td>2006</td>\n",
              "      <td>NaN</td>\n",
              "      <td>139.0</td>\n",
              "      <td>0</td>\n",
              "      <td>[\"'Action'\", \"'Adventure'\", \"'Drama'\"]</td>\n",
              "    </tr>\n",
              "    <tr>\n",
              "      <th>3</th>\n",
              "      <td>3</td>\n",
              "      <td>tt0406816</td>\n",
              "      <td>movie</td>\n",
              "      <td>The Guardian</td>\n",
              "      <td>The Guardian</td>\n",
              "      <td>False</td>\n",
              "      <td>2006</td>\n",
              "      <td>NaN</td>\n",
              "      <td>139.0</td>\n",
              "      <td>0</td>\n",
              "      <td>[\"'Action'\", \"'Adventure'\", \"'Drama'\"]</td>\n",
              "    </tr>\n",
              "    <tr>\n",
              "      <th>4</th>\n",
              "      <td>4</td>\n",
              "      <td>tt0406816</td>\n",
              "      <td>movie</td>\n",
              "      <td>The Guardian</td>\n",
              "      <td>The Guardian</td>\n",
              "      <td>False</td>\n",
              "      <td>2006</td>\n",
              "      <td>NaN</td>\n",
              "      <td>139.0</td>\n",
              "      <td>0</td>\n",
              "      <td>[\"'Action'\", \"'Adventure'\", \"'Drama'\"]</td>\n",
              "    </tr>\n",
              "    <tr>\n",
              "      <th>...</th>\n",
              "      <td>...</td>\n",
              "      <td>...</td>\n",
              "      <td>...</td>\n",
              "      <td>...</td>\n",
              "      <td>...</td>\n",
              "      <td>...</td>\n",
              "      <td>...</td>\n",
              "      <td>...</td>\n",
              "      <td>...</td>\n",
              "      <td>...</td>\n",
              "      <td>...</td>\n",
              "    </tr>\n",
              "    <tr>\n",
              "      <th>11715</th>\n",
              "      <td>11727</td>\n",
              "      <td>tt0450357</td>\n",
              "      <td>tvSeries</td>\n",
              "      <td>Wonder Showzen</td>\n",
              "      <td>Wonder Showzen</td>\n",
              "      <td>False</td>\n",
              "      <td>2005</td>\n",
              "      <td>2006.0</td>\n",
              "      <td>30.0</td>\n",
              "      <td>0</td>\n",
              "      <td>[\"'Animation'\", \"'Comedy'\"]</td>\n",
              "    </tr>\n",
              "    <tr>\n",
              "      <th>11716</th>\n",
              "      <td>11728</td>\n",
              "      <td>tt0450357</td>\n",
              "      <td>tvSeries</td>\n",
              "      <td>Wonder Showzen</td>\n",
              "      <td>Wonder Showzen</td>\n",
              "      <td>False</td>\n",
              "      <td>2005</td>\n",
              "      <td>2006.0</td>\n",
              "      <td>30.0</td>\n",
              "      <td>0</td>\n",
              "      <td>[\"'Animation'\", \"'Comedy'\"]</td>\n",
              "    </tr>\n",
              "    <tr>\n",
              "      <th>11717</th>\n",
              "      <td>11729</td>\n",
              "      <td>tt0450357</td>\n",
              "      <td>tvSeries</td>\n",
              "      <td>Wonder Showzen</td>\n",
              "      <td>Wonder Showzen</td>\n",
              "      <td>False</td>\n",
              "      <td>2005</td>\n",
              "      <td>2006.0</td>\n",
              "      <td>30.0</td>\n",
              "      <td>0</td>\n",
              "      <td>[\"'Animation'\", \"'Comedy'\"]</td>\n",
              "    </tr>\n",
              "    <tr>\n",
              "      <th>11718</th>\n",
              "      <td>11730</td>\n",
              "      <td>tt0450357</td>\n",
              "      <td>tvSeries</td>\n",
              "      <td>Wonder Showzen</td>\n",
              "      <td>Wonder Showzen</td>\n",
              "      <td>False</td>\n",
              "      <td>2005</td>\n",
              "      <td>2006.0</td>\n",
              "      <td>30.0</td>\n",
              "      <td>0</td>\n",
              "      <td>[\"'Animation'\", \"'Comedy'\"]</td>\n",
              "    </tr>\n",
              "    <tr>\n",
              "      <th>11719</th>\n",
              "      <td>11731</td>\n",
              "      <td>tt0450357</td>\n",
              "      <td>tvSeries</td>\n",
              "      <td>Wonder Showzen</td>\n",
              "      <td>Wonder Showzen</td>\n",
              "      <td>False</td>\n",
              "      <td>2005</td>\n",
              "      <td>2006.0</td>\n",
              "      <td>30.0</td>\n",
              "      <td>0</td>\n",
              "      <td>[\"'Animation'\", \"'Comedy'\"]</td>\n",
              "    </tr>\n",
              "  </tbody>\n",
              "</table>\n",
              "<p>11720 rows × 11 columns</p>\n",
              "</div>"
            ],
            "text/plain": [
              "       ReviewID    titleid  ... level_9                                       0\n",
              "0             0  tt0406816  ...       0  [\"'Action'\", \"'Adventure'\", \"'Drama'\"]\n",
              "1             1  tt0406816  ...       0  [\"'Action'\", \"'Adventure'\", \"'Drama'\"]\n",
              "2             2  tt0406816  ...       0  [\"'Action'\", \"'Adventure'\", \"'Drama'\"]\n",
              "3             3  tt0406816  ...       0  [\"'Action'\", \"'Adventure'\", \"'Drama'\"]\n",
              "4             4  tt0406816  ...       0  [\"'Action'\", \"'Adventure'\", \"'Drama'\"]\n",
              "...         ...        ...  ...     ...                                     ...\n",
              "11715     11727  tt0450357  ...       0             [\"'Animation'\", \"'Comedy'\"]\n",
              "11716     11728  tt0450357  ...       0             [\"'Animation'\", \"'Comedy'\"]\n",
              "11717     11729  tt0450357  ...       0             [\"'Animation'\", \"'Comedy'\"]\n",
              "11718     11730  tt0450357  ...       0             [\"'Animation'\", \"'Comedy'\"]\n",
              "11719     11731  tt0450357  ...       0             [\"'Animation'\", \"'Comedy'\"]\n",
              "\n",
              "[11720 rows x 11 columns]"
            ]
          },
          "metadata": {},
          "execution_count": 12
        }
      ]
    },
    {
      "cell_type": "code",
      "metadata": {
        "colab": {
          "base_uri": "https://localhost:8080/"
        },
        "id": "2ab0opGeePVS",
        "outputId": "854bc771-abc0-438a-e3f2-d911ca4421e5"
      },
      "source": [
        "df = pos_test.apply(lambda x: pd.Series(pos_test['genres']), axis = 1).stack().reset_index(level = 1, drop = True)\n",
        "df.name = 'genres'\n",
        "df.head(1)"
      ],
      "execution_count": null,
      "outputs": [
        {
          "output_type": "execute_result",
          "data": {
            "text/plain": [
              "0    [\"'Action'\", \"'Adventure'\", \"'Drama'\"]\n",
              "Name: genres, dtype: object"
            ]
          },
          "metadata": {},
          "execution_count": 6
        }
      ]
    },
    {
      "cell_type": "code",
      "metadata": {
        "id": "9SQkdPTqmlTa"
      },
      "source": [
        "df2 = pos_test.drop('genres', axis = 1).join(df)"
      ],
      "execution_count": null,
      "outputs": []
    },
    {
      "cell_type": "code",
      "metadata": {
        "id": "X2D14eE3ntNu"
      },
      "source": [
        ""
      ],
      "execution_count": null,
      "outputs": []
    }
  ]
}